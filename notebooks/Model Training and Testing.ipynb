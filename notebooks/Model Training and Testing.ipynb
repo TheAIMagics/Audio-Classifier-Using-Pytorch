{
 "cells": [
  {
   "cell_type": "markdown",
   "id": "589c5c43",
   "metadata": {},
   "source": [
    "### 1. Import libraries"
   ]
  },
  {
   "cell_type": "markdown",
   "id": "34926503",
   "metadata": {},
   "source": [
    "### 2. Apply Image Transformations"
   ]
  },
  {
   "cell_type": "markdown",
   "id": "3122fb3b",
   "metadata": {},
   "source": [
    "### 3. Split Our Data"
   ]
  },
  {
   "cell_type": "markdown",
   "id": "b9d2995a",
   "metadata": {},
   "source": [
    "### 4. Look Grid of Images"
   ]
  },
  {
   "cell_type": "markdown",
   "id": "2be7bae6",
   "metadata": {},
   "source": [
    "### 5. Create Utility Functions for DeviceDataLoader"
   ]
  },
  {
   "cell_type": "markdown",
   "id": "dca76d05",
   "metadata": {},
   "source": [
    "### 6. Create Base Model"
   ]
  },
  {
   "cell_type": "markdown",
   "id": "2e6533e9",
   "metadata": {},
   "source": [
    "### 7. Creating a convolutional neural network (CNN) "
   ]
  },
  {
   "cell_type": "markdown",
   "id": "557fd827",
   "metadata": {},
   "source": [
    "### 8. Train Our CNN Model"
   ]
  },
  {
   "cell_type": "markdown",
   "id": "e61532ae",
   "metadata": {},
   "source": [
    "### 9. Define Hyper Parameters"
   ]
  },
  {
   "cell_type": "markdown",
   "id": "60b121be",
   "metadata": {},
   "source": [
    "### 10. Visualize Accuracies"
   ]
  },
  {
   "cell_type": "markdown",
   "id": "38c25825",
   "metadata": {},
   "source": [
    "### 11. Visualize Loss"
   ]
  },
  {
   "cell_type": "markdown",
   "id": "5997eced",
   "metadata": {},
   "source": [
    "### 12. Save and Load Our Model"
   ]
  },
  {
   "cell_type": "markdown",
   "id": "548a3795",
   "metadata": {},
   "source": [
    "### 13. Perform predictions"
   ]
  }
 ],
 "metadata": {
  "kernelspec": {
   "display_name": "audio-process",
   "language": "python",
   "name": "audio-process"
  },
  "language_info": {
   "codemirror_mode": {
    "name": "ipython",
    "version": 3
   },
   "file_extension": ".py",
   "mimetype": "text/x-python",
   "name": "python",
   "nbconvert_exporter": "python",
   "pygments_lexer": "ipython3",
   "version": "3.8.16"
  }
 },
 "nbformat": 4,
 "nbformat_minor": 5
}
